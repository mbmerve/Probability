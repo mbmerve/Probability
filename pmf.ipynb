{
  "nbformat": 4,
  "nbformat_minor": 0,
  "metadata": {
    "colab": {
      "name": "pmf.ipynb",
      "provenance": [],
      "authorship_tag": "ABX9TyNHWLVe5GT6Qri8nb7gkdez",
      "include_colab_link": true
    },
    "kernelspec": {
      "name": "python3",
      "display_name": "Python 3"
    },
    "language_info": {
      "name": "python"
    }
  },
  "cells": [
    {
      "cell_type": "markdown",
      "metadata": {
        "id": "view-in-github",
        "colab_type": "text"
      },
      "source": [
        "<a href=\"https://colab.research.google.com/github/mbmerve/Probability/blob/main/pmf.ipynb\" target=\"_parent\"><img src=\"https://colab.research.google.com/assets/colab-badge.svg\" alt=\"Open In Colab\"/></a>"
      ]
    },
    {
      "cell_type": "markdown",
      "metadata": {
        "id": "iB0rnWxJbWnu"
      },
      "source": [
        "Problem : Bir deneyde hilesiz üç bozuk para atılıyor.Paranın tura gelmesi durumuna ait olan olasılık kütle fonksiyonunu(pmf) bulunuz ?\n",
        "\n",
        "Çözüm :\n",
        "\n",
        "Örnek Uzay\n",
        "\n",
        "S: {(T,T,T),(Y,Y,Y),(Y,Y,T),(Y,T,T),(T,T,Y),(T,Y,Y),(T,Y,T),(Y,T,Y)}\n",
        "\n",
        "Paranın tura gelme durumları:\n",
        "\n",
        "Hiç Tura Gelmemesi: P(X=0)= P ({(Y, Y, Y)} = 1/8,\n",
        "\n",
        "Bir Kere Tura Gelmesi: P(X=1) =P ({(Y, T, Y),(T, Y, Y),(Y, Y, T)}) = 3/8\n",
        "\n",
        "İki Kere Tura Gelmesi: P(X=2)= P ({(T, T, Y),(T, Y, T),(Y, T, T)}) = 3/8\n",
        "\n",
        "Üç Kere Tura Gelmesi: P(X=3)= P ({(T, T, T)}) = 1/8"
      ]
    },
    {
      "cell_type": "code",
      "metadata": {
        "colab": {
          "base_uri": "https://localhost:8080/",
          "height": 295
        },
        "id": "m_JtyA1Hbd5A",
        "outputId": "482a34b7-1fb1-4c33-961d-a16e14ba7001"
      },
      "source": [
        "import pandas as pd\n",
        "import matplotlib.pyplot as plt\n",
        "\n",
        "df =pd.DataFrame()\n",
        "df['state'] = [0,1,2,3]\n",
        "df['probability'] = [1/8, 3/8, 3/8, 1/8]\n",
        "\n",
        "plt.bar(df['state'],df['probability'],label=\"Px\", color='g')\n",
        "plt.title(\"Olasılık Kutle Fonksiyonu\")\n",
        "plt.xlabel(\"State\")\n",
        "plt.ylabel(\"Probability\")\n",
        "plt.show()"
      ],
      "execution_count": 1,
      "outputs": [
        {
          "output_type": "display_data",
          "data": {
            "image/png": "[encoded data removed]",
            "text/plain": [
              "<Figure size 432x288 with 1 Axes>"
            ]
          },
          "metadata": {
            "tags": [],
            "needs_background": "light"
          }
        }
      ]
    }
  ]
}