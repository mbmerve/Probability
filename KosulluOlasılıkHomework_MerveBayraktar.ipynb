{
  "nbformat": 4,
  "nbformat_minor": 0,
  "metadata": {
    "colab": {
      "name": "KosulluOlasılıkHomework_MerveBayraktar.ipynb",
      "provenance": [],
      "collapsed_sections": [],
      "authorship_tag": "ABX9TyOpNtxq+WZpcTJLZanLyzsT",
      "include_colab_link": true
    },
    "kernelspec": {
      "name": "python3",
      "display_name": "Python 3"
    },
    "language_info": {
      "name": "python"
    }
  },
  "cells": [
    {
      "cell_type": "markdown",
      "metadata": {
        "id": "view-in-github",
        "colab_type": "text"
      },
      "source": [
        "<a href=\"https://colab.research.google.com/github/mbmerve/Probability/blob/main/KosulluOlas%C4%B1l%C4%B1kHomework_MerveBayraktar.ipynb\" target=\"_parent\"><img src=\"https://colab.research.google.com/assets/colab-badge.svg\" alt=\"Open In Colab\"/></a>"
      ]
    },
    {
      "cell_type": "markdown",
      "metadata": {
        "id": "RrgNv8MQPYvz"
      },
      "source": [
        ""
      ]
    },
    {
      "cell_type": "markdown",
      "metadata": {
        "id": "vtbpsdOAM8rL"
      },
      "source": [
        "**SORU** : İki zar birlikte atılıyor .Zarların üst yüzlerindeki sayıların toplamının 8 geldiği bilindiğine göre , zarlardan birinin 3 gelmiş olma olasılığı kaçtır ?            \n",
        "\n",
        "\n",
        "ÇÖZÜM : Olasılık hesabında bazen bir olayın belli bir  şartı sağlandığı söylenerek örnek uzay daraltılır ve böylece sonucu bilme ya da tahmin etme olasılığımız artmış olur. Bu duruma koşullu olasılık denir.\n",
        "\n",
        "  B olayı gerçekleştiğine göre A olayının olma olasılığı \n",
        "     \n",
        "        P(A|B) = s(A ∩ B) / s(B)\n",
        "\n",
        " A olayı:    Zarlardan birinin 3 gelmesi\n",
        " \n",
        " A = {(1,3),(2,3),(3,3),(4,3),(5,3),(6,3),(3,1),(3,2),(3,4),(3,5),(3,6)}\n",
        "\n",
        " B olayı: Zarlardaki sayıların toplamının 8 olması  \n",
        "    \n",
        " B={(2,6),(3,5),(4,4),(5,3),(6,2)}       s(B) = 5                    \n",
        "         (A ∩ B) = {(3,5),(5,3)} s(A ∩ B) = 2                   \n",
        "     Bu durumda ;  P(A|B) = s(A ∩ B) / s(B) = 2/5 = 0,4\n",
        "\n",
        "\n",
        "\n"
      ]
    },
    {
      "cell_type": "code",
      "metadata": {
        "colab": {
          "base_uri": "https://localhost:8080/"
        },
        "id": "wcLVRJffR8Wf",
        "outputId": "99051e48-4e44-4b87-8da4-9f108e03c8ec"
      },
      "source": [
        "from itertools import product\n",
        "sampleSpace = set (product([1,2,3,4,5,6],[1,2,3,4,5,6]))\n",
        "sampleSpace\n",
        "len(sampleSpace)"
      ],
      "execution_count": 1,
      "outputs": [
        {
          "output_type": "execute_result",
          "data": {
            "text/plain": [
              "36"
            ]
          },
          "metadata": {
            "tags": []
          },
          "execution_count": 1
        }
      ]
    },
    {
      "cell_type": "code",
      "metadata": {
        "colab": {
          "base_uri": "https://localhost:8080/"
        },
        "id": "fakQDDswSA5r",
        "outputId": "ea3c9dbf-3904-4804-8979-cde0ae7a3087"
      },
      "source": [
        "P_A =11\n",
        "P_B = 5\n",
        "P_A_and_P_B = 2\n",
        "P_A_B = P_A_and_P_B / P_B\n",
        "print(\"B olayı gerçekleştiğinde A olayının olma olasılığı\",P_A_B);"
      ],
      "execution_count": 2,
      "outputs": [
        {
          "output_type": "stream",
          "text": [
            "B olayı gerçekleştiğinde A olayının olma olasılığı 0.4\n"
          ],
          "name": "stdout"
        }
      ]
    }
  ]
}